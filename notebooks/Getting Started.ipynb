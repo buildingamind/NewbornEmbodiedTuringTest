{
 "cells": [
  {
   "cell_type": "code",
   "execution_count": 1,
   "metadata": {},
   "outputs": [],
   "source": [
    "# imports\n",
    "from netts import Brain, Body, Environment\n",
    "from netts import NETT"
   ]
  },
  {
   "cell_type": "code",
   "execution_count": 2,
   "metadata": {},
   "outputs": [
    {
     "name": "stderr",
     "output_type": "stream",
     "text": [
      "[netts.Environment] INFO:  Executable permission is set\n",
      "[netts.Environment] INFO:  Display is set\n"
     ]
    }
   ],
   "source": [
    "# define components (brain, body and environment)\n",
    "# this example shows only a minimal setup, a LOT of customization is possible here\n",
    "brain = Brain(policy='CnnPolicy', algorithm='PPO')\n",
    "body = Body(type=\"basic\", dvs=False)\n",
    "environment = Environment(config=\"identityandview\", executable_path=\"/home/desabh/builds/identityandview/smoothnesswithbinding-linux.x86_64\")"
   ]
  },
  {
   "cell_type": "code",
   "execution_count": 1,
   "metadata": {},
   "outputs": [],
   "source": [
    "# construct the NETT\n",
    "nett = NETT(brain=brain, body=body, environment=environment)\n",
    "# run the NETT\n",
    "job_sheet = nett.run(dir=\"./test_run\", num_brains=1, train_eps=10, test_eps=1)"
   ]
  },
  {
   "cell_type": "code",
   "execution_count": 6,
   "metadata": {},
   "outputs": [
    {
     "data": {
      "text/html": [
       "<div>\n",
       "<style scoped>\n",
       "    .dataframe tbody tr th:only-of-type {\n",
       "        vertical-align: middle;\n",
       "    }\n",
       "\n",
       "    .dataframe tbody tr th {\n",
       "        vertical-align: top;\n",
       "    }\n",
       "\n",
       "    .dataframe thead th {\n",
       "        text-align: right;\n",
       "    }\n",
       "</style>\n",
       "<table border=\"1\" class=\"dataframe\">\n",
       "  <thead>\n",
       "    <tr style=\"text-align: right;\">\n",
       "      <th></th>\n",
       "      <th>running</th>\n",
       "      <th>specification.device</th>\n",
       "      <th>specification.mode</th>\n",
       "      <th>specification.brain_id</th>\n",
       "    </tr>\n",
       "  </thead>\n",
       "  <tbody>\n",
       "    <tr>\n",
       "      <th>0</th>\n",
       "      <td>True</td>\n",
       "      <td>0</td>\n",
       "      <td>object1-horizontal</td>\n",
       "      <td>1</td>\n",
       "    </tr>\n",
       "    <tr>\n",
       "      <th>1</th>\n",
       "      <td>True</td>\n",
       "      <td>0</td>\n",
       "      <td>object2-horizontal</td>\n",
       "      <td>1</td>\n",
       "    </tr>\n",
       "    <tr>\n",
       "      <th>2</th>\n",
       "      <td>True</td>\n",
       "      <td>1</td>\n",
       "      <td>object1-vertical</td>\n",
       "      <td>1</td>\n",
       "    </tr>\n",
       "    <tr>\n",
       "      <th>3</th>\n",
       "      <td>True</td>\n",
       "      <td>2</td>\n",
       "      <td>object2-vertical</td>\n",
       "      <td>1</td>\n",
       "    </tr>\n",
       "  </tbody>\n",
       "</table>\n",
       "</div>"
      ],
      "text/plain": [
       "   running  specification.device  specification.mode  specification.brain_id\n",
       "0     True                     0  object1-horizontal                       1\n",
       "1     True                     0  object2-horizontal                       1\n",
       "2     True                     1    object1-vertical                       1\n",
       "3     True                     2    object2-vertical                       1"
      ]
     },
     "execution_count": 6,
     "metadata": {},
     "output_type": "execute_result"
    }
   ],
   "source": [
    "# check status\n",
    "nett.status(job_sheet)"
   ]
  }
 ],
 "metadata": {
  "kernelspec": {
   "display_name": "testenv",
   "language": "python",
   "name": "python3"
  },
  "language_info": {
   "codemirror_mode": {
    "name": "ipython",
    "version": 3
   },
   "file_extension": ".py",
   "mimetype": "text/x-python",
   "name": "python",
   "nbconvert_exporter": "python",
   "pygments_lexer": "ipython3",
   "version": "3.10.12"
  }
 },
 "nbformat": 4,
 "nbformat_minor": 2
}
